{
 "cells": [
  {
   "cell_type": "markdown",
   "metadata": {},
   "source": [
    "___\n",
    "\n",
    "<a href='https://www.udemy.com/user/joseportilla/'><img src='../Pierian_Data_Logo.png'/></a>\n",
    "___\n",
    "<center><em>Content Copyright by Pierian Data</em></center>"
   ]
  },
  {
   "cell_type": "markdown",
   "metadata": {},
   "source": [
    "# Milestone Project 1: Walkthrough Steps Workbook\n",
    "\n",
    "Below is a set of steps for you to follow to try to create the Tic Tac Toe Milestone Project game!"
   ]
  },
  {
   "cell_type": "markdown",
   "metadata": {},
   "source": [
    "#### Some suggested tools before you get started:\n",
    "To take input from a user:\n",
    "\n",
    "    player1 = input(\"Please pick a marker 'X' or 'O'\")\n",
    "    \n",
    "Note that input() takes in a string. If you need an integer value, use\n",
    "\n",
    "    position = int(input('Please enter a number'))\n",
    "    \n",
    "<br>To clear the screen between moves:\n",
    "\n",
    "    from IPython.display import clear_output\n",
    "    clear_output()\n",
    "    \n",
    "Note that clear_output() will only work in jupyter. To clear the screen in other IDEs, consider:\n",
    "\n",
    "    print('\\n'*100)\n",
    "    \n",
    "This scrolls the previous board up out of view. Now on to the program!"
   ]
  },
  {
   "cell_type": "markdown",
   "metadata": {},
   "source": [
    "**Step 1: Write a function that can print out a board. Set up your board as a list, where each index 1-9 corresponds with a number on a number pad, so you get a 3 by 3 board representation.**"
   ]
  },
  {
   "cell_type": "code",
   "execution_count": 1,
   "metadata": {},
   "outputs": [],
   "source": [
    "from IPython.display import clear_output\n",
    "\n",
    "def display_board(board):\n",
    "    print(\n",
    "        f' {board[7]} | {board[8]} | {board[9]} \\n'\n",
    "        f'-----------\\n'\n",
    "        f' {board[4]} | {board[5]} | {board[6]} \\n'\n",
    "        f'-----------\\n'\n",
    "        f' {board[1]} | {board[2]} | {board[3]} \\n'\n",
    "    )"
   ]
  },
  {
   "cell_type": "markdown",
   "metadata": {},
   "source": [
    "**TEST Step 1:** run your function on a test version of the board list, and make adjustments as necessary"
   ]
  },
  {
   "cell_type": "raw",
   "metadata": {},
   "source": [
    "test_board = ['#','X','O','X','O','X','O','X','O','X']\n",
    "display_board(test_board)"
   ]
  },
  {
   "cell_type": "raw",
   "metadata": {},
   "source": [
    "empty_board = ['#',' ',' ',' ',' ',' ',' ',' ',' ',' ']\n",
    "display_board(empty_board)"
   ]
  },
  {
   "cell_type": "markdown",
   "metadata": {},
   "source": [
    "**Step 2: Write a function that can take in a player input and assign their marker as 'X' or 'O'. Think about using *while* loops to continually ask until you get a correct answer.**"
   ]
  },
  {
   "cell_type": "code",
   "execution_count": 2,
   "metadata": {},
   "outputs": [],
   "source": [
    "def player_input():\n",
    "    \n",
    "    valid_input = ['X', 'O']\n",
    "    player1 = 'Default'\n",
    "    player2 = 'Default'\n",
    "    \n",
    "    while player1 not in valid_input:\n",
    "        player1 = input(\" Player 1 please select 'X' or 'O' \").upper()\n",
    "        \n",
    "        if player1 not in valid_input:\n",
    "            print('Incorrect input! Please try again.')\n",
    "    \n",
    "    if player1 == 'X':\n",
    "        player2 = 'O'\n",
    "    else:\n",
    "        player2 = 'X'\n",
    "        \n",
    "    return player1, player2"
   ]
  },
  {
   "cell_type": "markdown",
   "metadata": {},
   "source": [
    "**TEST Step 2:** run the function to make sure it returns the desired output"
   ]
  },
  {
   "cell_type": "raw",
   "metadata": {},
   "source": [
    "player_input()"
   ]
  },
  {
   "cell_type": "markdown",
   "metadata": {},
   "source": [
    "**Step 3: Write a function that takes in the board list object, a marker ('X' or 'O'), and a desired position (number 1-9) and assigns it to the board.**"
   ]
  },
  {
   "cell_type": "code",
   "execution_count": 3,
   "metadata": {},
   "outputs": [],
   "source": [
    "def place_marker(board, marker, position):\n",
    "    board [position] = marker\n",
    "    return board  "
   ]
  },
  {
   "cell_type": "raw",
   "metadata": {},
   "source": [
    "list(range(1,10))"
   ]
  },
  {
   "cell_type": "markdown",
   "metadata": {},
   "source": [
    "**TEST Step 3:** run the place marker function using test parameters and display the modified board"
   ]
  },
  {
   "cell_type": "raw",
   "metadata": {},
   "source": [
    "place_marker(test_board,'$',8)\n",
    "display_board(test_board)"
   ]
  },
  {
   "cell_type": "markdown",
   "metadata": {},
   "source": [
    "**Step 4: Write a function that takes in a board and a mark (X or O) and then checks to see if that mark has won. **"
   ]
  },
  {
   "cell_type": "code",
   "execution_count": 4,
   "metadata": {},
   "outputs": [],
   "source": [
    "def win_check(board, mark):\n",
    "\n",
    "    if board[1] ==  board[2] ==  board[3] == mark.upper():\n",
    "        return True\n",
    "        pass\n",
    "    elif board[4] ==  board[5] ==  board[6] == mark.upper():\n",
    "        return True\n",
    "        pass\n",
    "    elif board[7] ==  board[8] ==  board[9] == mark.upper():\n",
    "        return True\n",
    "        pass\n",
    "    elif board[1] ==  board[4] ==  board[7] == mark.upper():\n",
    "        return True\n",
    "        pass\n",
    "    elif board[2] ==  board[5] ==  board[8] == mark.upper():\n",
    "        return True\n",
    "        pass\n",
    "    elif board[3] ==  board[6] ==  board[9] == mark.upper():\n",
    "        return True\n",
    "        pass\n",
    "    elif board[1] ==  board[5] ==  board[9] == mark.upper():\n",
    "        return True\n",
    "        pass\n",
    "    elif board[3] ==  board[5] ==  board[7] == mark.upper():\n",
    "        return True\n",
    "        pass\n",
    "    else:\n",
    "        return False"
   ]
  },
  {
   "cell_type": "markdown",
   "metadata": {},
   "source": [
    "**TEST Step 4:** run the win_check function against our test_board - it should return True"
   ]
  },
  {
   "cell_type": "raw",
   "metadata": {},
   "source": [
    "display_board(test_board)\n",
    "win_check(test_board,'x')"
   ]
  },
  {
   "cell_type": "markdown",
   "metadata": {},
   "source": [
    "**Step 5: Write a function that uses the random module to randomly decide which player goes first. You may want to lookup random.randint() Return a string of which player went first.**"
   ]
  },
  {
   "cell_type": "code",
   "execution_count": 5,
   "metadata": {},
   "outputs": [],
   "source": [
    "import random\n",
    "\n",
    "def choose_first():\n",
    "    rand = random.randint(1,2)\n",
    "    print(f'Player {rand} starts first!')\n",
    "    return rand"
   ]
  },
  {
   "cell_type": "raw",
   "metadata": {},
   "source": [
    "choose_first()"
   ]
  },
  {
   "cell_type": "markdown",
   "metadata": {},
   "source": [
    "**Step 6: Write a function that returns a boolean indicating whether a space on the board is freely available.**"
   ]
  },
  {
   "cell_type": "code",
   "execution_count": 6,
   "metadata": {},
   "outputs": [],
   "source": [
    "def space_check(board, position):\n",
    "    if board [position] == ' ' :\n",
    "        return True\n",
    "    else:\n",
    "        return False"
   ]
  },
  {
   "cell_type": "raw",
   "metadata": {},
   "source": [
    "display_board(test_board)\n",
    "space_check(test_board, 6)"
   ]
  },
  {
   "cell_type": "markdown",
   "metadata": {},
   "source": [
    "**Step 7: Write a function that checks if the board is full and returns a boolean value. True if full, False otherwise.**"
   ]
  },
  {
   "cell_type": "code",
   "execution_count": 7,
   "metadata": {},
   "outputs": [],
   "source": [
    "def full_board_check(board):\n",
    "    for mark in board:\n",
    "        if mark == ' ':\n",
    "            return False\n",
    "        else:\n",
    "            continue\n",
    "    return True"
   ]
  },
  {
   "cell_type": "raw",
   "metadata": {},
   "source": [
    "display_board(test_board)\n",
    "full_board_check(test_board)\n"
   ]
  },
  {
   "cell_type": "markdown",
   "metadata": {},
   "source": [
    "**Step 8: Write a function that asks for a player's next position (as a number 1-9) and then uses the function from step 6 to check if it's a free position. If it is, then return the position for later use.**"
   ]
  },
  {
   "cell_type": "code",
   "execution_count": 8,
   "metadata": {},
   "outputs": [],
   "source": [
    "def player_choice(board):\n",
    "    \n",
    "    valid_input = list(range(1,10))\n",
    "    space_avail = False\n",
    "    input_istrue = False\n",
    "    \n",
    "    while space_avail == False:\n",
    "        \n",
    "        while input_istrue == False:\n",
    "            pos = input('Choose position of the marker [1-9]:')\n",
    "            \n",
    "            if pos in str(valid_input):\n",
    "                input_istrue = True\n",
    "                pos = int(pos)\n",
    "                break\n",
    "            else:\n",
    "                print('Invalid input! Please try again.')\n",
    "                continue\n",
    "                \n",
    "        space_avail = space_check(board, pos)\n",
    "    \n",
    "    return pos"
   ]
  },
  {
   "cell_type": "raw",
   "metadata": {},
   "source": [
    "player_choice(empty_board)"
   ]
  },
  {
   "cell_type": "markdown",
   "metadata": {},
   "source": [
    "**Step 9: Write a function that asks the player if they want to play again and returns a boolean True if they do want to play again.**"
   ]
  },
  {
   "cell_type": "code",
   "execution_count": 9,
   "metadata": {},
   "outputs": [],
   "source": [
    "def replay():\n",
    "    \n",
    "    valid_input = ['Y','N']\n",
    "    replay = 'default'\n",
    "    \n",
    "    while replay not in valid_input:\n",
    "        replay = input('Play another round? [\"Y\" or \"N\"]').upper()\n",
    "    \n",
    "    if replay == 'Y':\n",
    "        return True\n",
    "    else:\n",
    "        return False"
   ]
  },
  {
   "cell_type": "raw",
   "metadata": {},
   "source": [
    "replay()"
   ]
  },
  {
   "cell_type": "markdown",
   "metadata": {},
   "source": [
    "**Step 10: Here comes the hard part! Use while loops and the functions you've made to run the game!**"
   ]
  },
  {
   "cell_type": "code",
   "execution_count": 15,
   "metadata": {},
   "outputs": [
    {
     "name": "stdout",
     "output_type": "stream",
     "text": [
      " X |   |   \n",
      "-----------\n",
      " O | X | O \n",
      "-----------\n",
      " X | O | X \n",
      "\n",
      "\n",
      "Congratulations, Player 1 [X] has won the game!\n",
      "\n"
     ]
    },
    {
     "name": "stdin",
     "output_type": "stream",
     "text": [
      "Play another round? [\"Y\" or \"N\"] n\n"
     ]
    },
    {
     "name": "stdout",
     "output_type": "stream",
     "text": [
      "\n",
      "End of the game!\n"
     ]
    }
   ],
   "source": [
    "print('Welcome to Tic Tac Toe!')\n",
    "\n",
    "# Default variables\n",
    "play = True\n",
    "play_first = 1\n",
    "play_second = 2\n",
    "\n",
    "while play:\n",
    "    \n",
    "    # Set the game up here\n",
    "    game_board = ['#',' ',' ',' ',' ',' ',' ',' ',' ',' ']\n",
    "    display_board(game_board)\n",
    "    game_on = True\n",
    "    \n",
    "    # choose marker and randomly set who plays first \n",
    "    mark1, mark2 = player_input()\n",
    "    play_first = choose_first()\n",
    "    \n",
    "    # reverse order if player 2 starts first\n",
    "    if play_first == 2:\n",
    "        play_first = 2\n",
    "        play_second = 1\n",
    "        turn1 = mark2\n",
    "        turn2 = mark1\n",
    "    else:\n",
    "        turn1 = mark1\n",
    "        turn2 = mark2\n",
    "    \n",
    "    while game_on:\n",
    "        \n",
    "        # Player 1 Turn\n",
    "        print(f\"\\nPlayer {play_first}'s [{turn1}] turn!\")\n",
    "        space_avail = False\n",
    "        pos = 0\n",
    "        \n",
    "        # choose position, place marker, update list, display updated list\n",
    "        pos = player_choice(game_board)\n",
    "        game_board = place_marker(game_board, turn1, pos)\n",
    "        clear_output()\n",
    "        display_board(game_board)\n",
    "        \n",
    "        # verify if current player has won\n",
    "        win_istrue = win_check(game_board, turn1)\n",
    "        if win_istrue:\n",
    "            print(f\"\\nCongratulations, Player {play_first} [{turn1}] has won the game!\\n\")\n",
    "            game_on = False\n",
    "            break\n",
    "            \n",
    "        # verify if the previous move caused the board to be full\n",
    "        full_istrue = full_board_check(game_board)\n",
    "        if full_istrue:\n",
    "            print(\"\\nThe game board is full! The game is tied.\\n\")\n",
    "            game_on = False\n",
    "            break\n",
    "        \n",
    "        # --------------------------------------------------------------------\n",
    "        \n",
    "        # Player2's turn.\n",
    "        print(f\"\\nPlayer {play_second}'s [{turn2}] turn!\")\n",
    "        space_avail = True\n",
    "        pos = 0\n",
    "        \n",
    "        # choose position, place marker, update list, display updated list\n",
    "        pos = player_choice(game_board)\n",
    "        game_board = place_marker(game_board, turn2, pos)\n",
    "        clear_output()\n",
    "        display_board(game_board)\n",
    "        \n",
    "        # verify if current player has won\n",
    "        win_istrue = win_check(game_board, turn2)\n",
    "        if win_istrue:\n",
    "            print(f\"\\nCongratulations, Player {play_second} [{turn2}] has won the game!\\n\")\n",
    "            game_on = False\n",
    "            break\n",
    "            \n",
    "        # verify if the previous move caused the board to be full\n",
    "        full_istrue = full_board_check(game_board)\n",
    "        if full_istrue:\n",
    "            print(\"\\nThe game board is full! The game is tied.\\n\")\n",
    "            game_on = False\n",
    "            break\n",
    "            #pass\n",
    "    \n",
    "    \n",
    "    \n",
    "    if not replay():\n",
    "        print('\\nEnd of the game!')\n",
    "        break\n",
    "    clear_output()"
   ]
  },
  {
   "cell_type": "markdown",
   "metadata": {},
   "source": [
    "## Good Job!"
   ]
  }
 ],
 "metadata": {
  "kernelspec": {
   "display_name": "Python 3",
   "language": "python",
   "name": "python3"
  },
  "language_info": {
   "codemirror_mode": {
    "name": "ipython",
    "version": 3
   },
   "file_extension": ".py",
   "mimetype": "text/x-python",
   "name": "python",
   "nbconvert_exporter": "python",
   "pygments_lexer": "ipython3",
   "version": "3.6.8"
  }
 },
 "nbformat": 4,
 "nbformat_minor": 4
}
