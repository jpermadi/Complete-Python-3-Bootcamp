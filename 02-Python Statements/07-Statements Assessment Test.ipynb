{
 "cells": [
  {
   "cell_type": "markdown",
   "metadata": {},
   "source": [
    "___\n",
    "\n",
    "<a href='https://www.udemy.com/user/joseportilla/'><img src='../Pierian_Data_Logo.png'/></a>\n",
    "___\n",
    "<center><em>Content Copyright by Pierian Data</em></center>"
   ]
  },
  {
   "cell_type": "markdown",
   "metadata": {},
   "source": [
    "# Statements Assessment Test\n",
    "Let's test your knowledge!"
   ]
  },
  {
   "cell_type": "markdown",
   "metadata": {},
   "source": [
    "_____\n",
    "**Use <code>for</code>, .split(), and <code>if</code> to create a Statement that will print out words that start with 's':**"
   ]
  },
  {
   "cell_type": "code",
   "execution_count": 1,
   "metadata": {},
   "outputs": [],
   "source": [
    "st = 'Print only the words that start with s in this sentence'"
   ]
  },
  {
   "cell_type": "code",
   "execution_count": 11,
   "metadata": {},
   "outputs": [
    {
     "name": "stdout",
     "output_type": "stream",
     "text": [
      "start\n",
      "s\n",
      "sentence\n"
     ]
    }
   ],
   "source": [
    "for word in st.split(' '):\n",
    "    if word[0].lower() == 's':\n",
    "        print(word)\n",
    "    else:\n",
    "        continue"
   ]
  },
  {
   "cell_type": "markdown",
   "metadata": {},
   "source": [
    "______\n",
    "**Use range() to print all the even numbers from 0 to 10.**"
   ]
  },
  {
   "cell_type": "code",
   "execution_count": 14,
   "metadata": {},
   "outputs": [
    {
     "name": "stdout",
     "output_type": "stream",
     "text": [
      "2\n",
      "4\n",
      "6\n",
      "8\n",
      "10\n"
     ]
    }
   ],
   "source": [
    "for num in range(1,11):\n",
    "    if num%2 == 0:\n",
    "        print(num)"
   ]
  },
  {
   "cell_type": "markdown",
   "metadata": {},
   "source": [
    "___\n",
    "**Use a List Comprehension to create a list of all numbers between 1 and 50 that are divisible by 3.**"
   ]
  },
  {
   "cell_type": "code",
   "execution_count": 18,
   "metadata": {},
   "outputs": [
    {
     "data": {
      "text/plain": [
       "[3, 6, 9, 12, 15, 18, 21, 24, 27, 30, 33, 36, 39, 42, 45, 48]"
      ]
     },
     "execution_count": 18,
     "metadata": {},
     "output_type": "execute_result"
    }
   ],
   "source": [
    "div3 = [num for num in range(1,51) if num%3 == 0]\n",
    "div3"
   ]
  },
  {
   "cell_type": "markdown",
   "metadata": {},
   "source": [
    "_____\n",
    "**Go through the string below and if the length of a word is even print \"even!\"**"
   ]
  },
  {
   "cell_type": "code",
   "execution_count": null,
   "metadata": {},
   "outputs": [],
   "source": [
    "st = 'Print every word in this sentence that has an even number of letters'"
   ]
  },
  {
   "cell_type": "code",
   "execution_count": 21,
   "metadata": {},
   "outputs": [
    {
     "name": "stdout",
     "output_type": "stream",
     "text": [
      "only is even!\n",
      "that is even!\n",
      "with is even!\n",
      "in is even!\n",
      "this is even!\n",
      "sentence is even!\n"
     ]
    }
   ],
   "source": [
    "for word in st.split(' '):\n",
    "    if len(word)%2 == 0:\n",
    "        print(word + ' is even!')"
   ]
  },
  {
   "cell_type": "markdown",
   "metadata": {},
   "source": [
    "____\n",
    "**Write a program that prints the integers from 1 to 100. But for multiples of three print \"Fizz\" instead of the number, and for the multiples of five print \"Buzz\". For numbers which are multiples of both three and five print \"FizzBuzz\".**"
   ]
  },
  {
   "cell_type": "code",
   "execution_count": 30,
   "metadata": {},
   "outputs": [
    {
     "name": "stdout",
     "output_type": "stream",
     "text": [
      "3  : Fizz\n",
      "5  : Buzz\n",
      "6  : Fizz\n",
      "9  : Fizz\n",
      "10  : Buzz\n",
      "12  : Fizz\n",
      "15  : FizzBuzz\n",
      "18  : Fizz\n",
      "20  : Buzz\n",
      "21  : Fizz\n",
      "24  : Fizz\n",
      "25  : Buzz\n",
      "27  : Fizz\n",
      "30  : FizzBuzz\n",
      "33  : Fizz\n",
      "35  : Buzz\n",
      "36  : Fizz\n",
      "39  : Fizz\n",
      "40  : Buzz\n",
      "42  : Fizz\n",
      "45  : FizzBuzz\n",
      "48  : Fizz\n",
      "50  : Buzz\n",
      "51  : Fizz\n",
      "54  : Fizz\n",
      "55  : Buzz\n",
      "57  : Fizz\n",
      "60  : FizzBuzz\n",
      "63  : Fizz\n",
      "65  : Buzz\n",
      "66  : Fizz\n",
      "69  : Fizz\n",
      "70  : Buzz\n",
      "72  : Fizz\n",
      "75  : FizzBuzz\n",
      "78  : Fizz\n",
      "80  : Buzz\n",
      "81  : Fizz\n",
      "84  : Fizz\n",
      "85  : Buzz\n",
      "87  : Fizz\n",
      "90  : FizzBuzz\n",
      "93  : Fizz\n",
      "95  : Buzz\n",
      "96  : Fizz\n",
      "99  : Fizz\n",
      "100  : Buzz\n"
     ]
    }
   ],
   "source": [
    "for num in range(1,101):\n",
    "    if num%3 == 0 and num%5 == 0:\n",
    "        print(num, ' : FizzBuzz')\n",
    "    elif num%3 == 0:\n",
    "        print(num, ' : Fizz')\n",
    "    elif num%5 == 0:\n",
    "        print(num, ' : Buzz')\n",
    "        "
   ]
  },
  {
   "cell_type": "code",
   "execution_count": 31,
   "metadata": {},
   "outputs": [
    {
     "name": "stdout",
     "output_type": "stream",
     "text": [
      "3  : Fizz\n",
      "5  : Buzz\n",
      "6  : Fizz\n",
      "9  : Fizz\n",
      "10  : Buzz\n",
      "12  : Fizz\n",
      "15  : FizzBuzz\n",
      "18  : Fizz\n",
      "20  : Buzz\n",
      "21  : Fizz\n",
      "24  : Fizz\n",
      "25  : Buzz\n",
      "27  : Fizz\n",
      "30  : FizzBuzz\n",
      "33  : Fizz\n",
      "35  : Buzz\n",
      "36  : Fizz\n",
      "39  : Fizz\n",
      "40  : Buzz\n",
      "42  : Fizz\n",
      "45  : FizzBuzz\n",
      "48  : Fizz\n",
      "50  : Buzz\n",
      "51  : Fizz\n",
      "54  : Fizz\n",
      "55  : Buzz\n",
      "57  : Fizz\n",
      "60  : FizzBuzz\n",
      "63  : Fizz\n",
      "65  : Buzz\n",
      "66  : Fizz\n",
      "69  : Fizz\n",
      "70  : Buzz\n",
      "72  : Fizz\n",
      "75  : FizzBuzz\n",
      "78  : Fizz\n",
      "80  : Buzz\n",
      "81  : Fizz\n",
      "84  : Fizz\n",
      "85  : Buzz\n",
      "87  : Fizz\n",
      "90  : FizzBuzz\n",
      "93  : Fizz\n",
      "95  : Buzz\n",
      "96  : Fizz\n",
      "99  : Fizz\n",
      "100  : Buzz\n"
     ]
    }
   ],
   "source": [
    "for num in range(1,101):\n",
    "    if num%3 == 0:\n",
    "        if num%5 == 0:\n",
    "            print(num, ' : FizzBuzz')\n",
    "        else:\n",
    "            print(num, ' : Fizz')\n",
    "    elif num%5 == 0:\n",
    "        print(num, ' : Buzz')"
   ]
  },
  {
   "cell_type": "markdown",
   "metadata": {},
   "source": [
    "____\n",
    "**Use List Comprehension to create a list of the first letters of every word in the string below:**"
   ]
  },
  {
   "cell_type": "code",
   "execution_count": 32,
   "metadata": {},
   "outputs": [],
   "source": [
    "st = 'Create a list of the first letters of every word in this string'"
   ]
  },
  {
   "cell_type": "code",
   "execution_count": 33,
   "metadata": {},
   "outputs": [
    {
     "data": {
      "text/plain": [
       "['C', 'a', 'l', 'o', 't', 'f', 'l', 'o', 'e', 'w', 'i', 't', 's']"
      ]
     },
     "execution_count": 33,
     "metadata": {},
     "output_type": "execute_result"
    }
   ],
   "source": [
    "firstlet = [let[0] for let in st.split(' ') ]\n",
    "firstlet"
   ]
  },
  {
   "cell_type": "markdown",
   "metadata": {},
   "source": [
    "### Great Job!"
   ]
  }
 ],
 "metadata": {
  "kernelspec": {
   "display_name": "Python 3",
   "language": "python",
   "name": "python3"
  },
  "language_info": {
   "codemirror_mode": {
    "name": "ipython",
    "version": 3
   },
   "file_extension": ".py",
   "mimetype": "text/x-python",
   "name": "python",
   "nbconvert_exporter": "python",
   "pygments_lexer": "ipython3",
   "version": "3.6.8"
  }
 },
 "nbformat": 4,
 "nbformat_minor": 4
}
